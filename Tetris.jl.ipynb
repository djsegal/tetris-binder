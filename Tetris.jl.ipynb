{
 "cells": [
  {
   "cell_type": "markdown",
   "metadata": {},
   "source": [
    "# [Tetris.jl](https://github.com/djsegal/Tetris.jl)\n",
    "\n",
    "To play,\n",
    "\n",
    "+ click `Cell` in navbar\n",
    "+ select `Run All`"
   ]
  },
  {
   "cell_type": "code",
   "execution_count": null,
   "metadata": {},
   "outputs": [],
   "source": [
    "using WebIO\n",
    "\n",
    "Node(\n",
    "    :div, \n",
    "    \"Hello, World\", \n",
    "    attributes = Dict(\n",
    "        :style => \"color: #345678; font-weight: bold;\"\n",
    "    )\n",
    ")"
   ]
  }
 ],
 "metadata": {
  "kernelspec": {
   "display_name": "Julia 0.6.2",
   "language": "julia",
   "name": "julia-0.6"
  },
  "language_info": {
   "file_extension": ".jl",
   "mimetype": "application/julia",
   "name": "julia",
   "version": "0.6.2"
  }
 },
 "nbformat": 4,
 "nbformat_minor": 2
}
