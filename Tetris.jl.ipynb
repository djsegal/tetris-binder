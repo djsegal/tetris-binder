{
 "cells": [
  {
   "cell_type": "markdown",
   "metadata": {},
   "source": [
    "# [Tetris.jl](https://github.com/djsegal/Tetris.jl)\n",
    "\n",
    "To play,\n",
    "\n",
    "+ click `Cell` in navbar\n",
    "+ select `Run All`\n",
    "+ wait `1 min` and bam!\n",
    "\n",
    "------"
   ]
  },
  {
   "cell_type": "code",
   "execution_count": null,
   "metadata": {},
   "outputs": [],
   "source": [
    "foo(fizz, buzz) = ( println(buzz) ; sleep(fizz) )\n",
    "\n",
    "function bar(bottle_count=99, bar_time=86)\n",
    "    for cur_index in bottle_count:-1:bar_time\n",
    "        foo(2, \"$(cur_index) bottle(s) of beer on the wall.\") ; foo(1.5, \"$(cur_index) bottle(s) of beer.\")\n",
    "        foo(2, \"Take one down. Pass it around.\") ; foo(2.5, \"$(cur_index-1) bottle(s) of beer on the wall.\")\n",
    "    end\n",
    "    println(\"Now, get back to work!\")\n",
    "end"
   ]
  },
  {
   "cell_type": "markdown",
   "metadata": {},
   "source": [
    "------\n",
    "\n",
    "### Controls are:\n",
    "\n",
    "<div style=\"display: flex;\">\n",
    "    <table style=\"margin: auto;\">\n",
    "        <thead>\n",
    "            <tr>\n",
    "                <th> key </th>\n",
    "                <th> action </th>\n",
    "            </tr>\n",
    "        </thead>\n",
    "\n",
    "        <tr>\n",
    "            <td style=\"text-align: center;\"> &nbsp;&nbsp;&nbsp;`  ←  `&nbsp;&nbsp;&nbsp; </td>\n",
    "            <td style=\"text-align: center;\"> slide left </td>\n",
    "        </tr>\n",
    "\n",
    "        <tr>\n",
    "            <td style=\"text-align: center;\"> `→` </td>\n",
    "            <td style=\"text-align: center;\"> slide right </td>\n",
    "        </tr>\n",
    "\n",
    "        <tr>\n",
    "            <td style=\"text-align: center;\"> `↑` </td>\n",
    "            <td style=\"text-align: center;\"> rotate right </td>\n",
    "        </tr>\n",
    "\n",
    "        <tr>\n",
    "            <td style=\"text-align: center;\"> `↓` </td>\n",
    "            <td style=\"text-align: center;\"> soft drop </td>\n",
    "        </tr>\n",
    "    </table>\n",
    "\n",
    "    <table style=\"margin: auto;\">\n",
    "        <thead>\n",
    "            <tr>\n",
    "                <th> key </th>\n",
    "                <th> action </th>\n",
    "            </tr>\n",
    "        </thead>\n",
    "\n",
    "        <tr>\n",
    "            <td style=\"text-align: center;\"> `M` </td>\n",
    "            <td style=\"text-align: center;\"> play music </td>\n",
    "        </tr>\n",
    "\n",
    "        <tr>\n",
    "            <td style=\"text-align: center;\"> `C` </td>\n",
    "            <td style=\"text-align: center;\"> hold piece </td>\n",
    "        </tr>\n",
    "\n",
    "        <tr>\n",
    "            <td style=\"text-align: center;\"> `Z` </td>\n",
    "            <td style=\"text-align: center;\"> rotate left </td>\n",
    "        </tr>\n",
    "\n",
    "        <tr>\n",
    "            <td style=\"text-align: center;\"> `SPACE` </td>\n",
    "            <td style=\"text-align: center;\"> hard drop </td>\n",
    "        </tr>\n",
    "    </table>\n",
    "</div>"
   ]
  },
  {
   "cell_type": "code",
   "execution_count": null,
   "metadata": {
    "scrolled": true
   },
   "outputs": [],
   "source": [
    "using Tetris\n",
    "\n",
    "@tetris bar()"
   ]
  }
 ],
 "metadata": {
  "kernelspec": {
   "display_name": "Julia 0.6.2",
   "language": "julia",
   "name": "julia-0.6"
  },
  "language_info": {
   "file_extension": ".jl",
   "mimetype": "application/julia",
   "name": "julia",
   "version": "0.6.2"
  }
 },
 "nbformat": 4,
 "nbformat_minor": 2
}
